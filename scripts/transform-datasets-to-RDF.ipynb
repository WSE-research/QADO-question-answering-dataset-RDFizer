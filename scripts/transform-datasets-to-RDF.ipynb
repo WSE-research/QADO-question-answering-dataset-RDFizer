{
 "cells": [
  {
   "cell_type": "markdown",
   "metadata": {},
   "source": [
    "# Transform datasets to RDF as defined in the JSON configuration file"
   ]
  },
  {
   "cell_type": "code",
   "execution_count": 14,
   "metadata": {},
   "outputs": [],
   "source": [
    "configurations_folder = \"configurations\"\n",
    "configurations = [\n",
    "    \"qald.json\",\n",
    "    \"lc-quad.json\",\n",
    "    \"rubq.json\",\n",
    "    \"cwq.json\"\n",
    "]\n",
    "\n",
    "service_url = \"http://webengineering.ins.hs-anhalt.de:41399/json2rdf\""
   ]
  },
  {
   "cell_type": "code",
   "execution_count": 3,
   "metadata": {},
   "outputs": [],
   "source": [
    "import json\n",
    "from pprint import pprint\n",
    "import requests"
   ]
  },
  {
   "cell_type": "code",
   "execution_count": 15,
   "metadata": {
    "pycharm": {
     "name": "#%%\n"
    }
   },
   "outputs": [
    {
     "name": "stdout",
     "output_type": "stream",
     "text": [
      "     82041 \t QALD 6 train datacube \t https://github.com/ag-sc/QALD/raw/master/6/data/qald-6-train-datacube.json\n",
      "     26687 \t QALD 6 train hybrid \t https://github.com/ag-sc/QALD/raw/master/6/data/qald-6-train-hybrid.json\n",
      "    470615 \t QALD 6 train multilingual raw \t https://github.com/ag-sc/QALD/raw/master/6/data/qald-6-train-multilingual-raw.json\n",
      "   1022433 \t QALD 6 train multilingual \t https://github.com/ag-sc/QALD/raw/master/6/data/qald-6-train-multilingual.json\n",
      "    337524 \t QALD 7 train multilingual \t https://github.com/ag-sc/QALD/raw/master/7/data/qald-7-train-multilingual.json\n",
      "       362 \t QALD 7 train multilingual extended \t https://github.com/ag-sc/QALD/raw/master/7/data/qald-7-train-multilingual-extended-json.json\n",
      "    437267 \t QALD 8 train multilingual \t https://github.com/ag-sc/QALD/raw/master/8/data/qald-8-train-multilingual.json\n",
      "     33814 \t QALD 8 test multilingual \t https://github.com/ag-sc/QALD/raw/master/8/data/qald-8-test-multilingual.json?raw=true\n",
      "   1424414 \t QALD 9 train multilingual \t https://github.com/ag-sc/QALD/raw/master/9/data/qald-9-train-multilingual.json?raw=true\n",
      "   1424436 \t QALD 9 train multilingual --- githubusercontent \t https://raw.githubusercontent.com/ag-sc/QALD/master/9/data/qald-9-train-multilingual.json\n",
      "    495491 \t QALD 9 test multilingual \t https://raw.githubusercontent.com/ag-sc/QALD/master/9/data/qald-9-test-multilingual.json\n",
      "    558148 \t lcquad 1.0 test en de \t https://figshare.com/ndownloader/files/23454047\n",
      "   2240777 \t lcquad 1.0 train en de \t https://figshare.com/ndownloader/files/23454050\n",
      "       565 \t lcquad 2.0 train \t https://figshare.com/ndownloader/files/15738824\n",
      "       563 \t lcquad 2.0 test \t https://figshare.com/ndownloader/files/15738818\n",
      "    218699 \t RuBQ 1.0 dev \t https://github.com/vladislavneon/RuBQ/raw/master/RuBQ_1.0/RuBQ_1.0_dev.json?raw=true\n",
      "    882707 \t RuBQ 1.0 test \t https://github.com/vladislavneon/RuBQ/raw/master/RuBQ_1.0/RuBQ_1.0_test.json?raw=true\n",
      "    428268 \t RuBQ 2.0 dev \t https://github.com/vladislavneon/RuBQ/raw/master/RuBQ_2.0/RuBQ_2.0_dev.json?raw=true\n",
      "   1730222 \t RuBQ 2.0 test \t https://github.com/vladislavneon/RuBQ/raw/master/RuBQ_2.0/RuBQ_2.0_test.json?raw=true\n",
      "       112 \t CWQ dev \t https://www.dropbox.com/sh/7pkwkrfnwqhsnpo/AADH8beLbOUWxwvY_K38E3ADa/ComplexWebQuestions_dev.json?dl=0\n",
      "       113 \t CWQ test \t https://www.dropbox.com/sh/7pkwkrfnwqhsnpo/AABr4ysSy_Tg8Wfxww4i_UWda/ComplexWebQuestions_test.json?dl=0\n",
      "       114 \t CWQ train \t https://www.dropbox.com/sh/7pkwkrfnwqhsnpo/AAAIHeWX0cPpbpwK6w06BCxva/ComplexWebQuestions_train.json?dl=0\n"
     ]
    }
   ],
   "source": [
    "for configuration_filename in configurations:\n",
    "    configuration_list = json.load(open(configurations_folder + \"/\" + configuration_filename))\n",
    "    \n",
    "    for configuration in configuration_list:\n",
    "        #pprint(configuration)\n",
    "        \n",
    "        post_data = {   \n",
    "            \"filePath\": configuration[\"filePath\"],\n",
    "            \"homepage\": configuration[\"homepage\"],\n",
    "            \"format\": configuration[\"format\"],\n",
    "            \"label\": configuration[\"label\"],\n",
    "        }\n",
    "        \n",
    "        #pprint(post_data)\n",
    "        \n",
    "        turtle_data = requests.post(service_url, json=post_data, headers={'Content-Type': 'application/json'}) \n",
    "        \n",
    "        print(\"%10d\" % (len(turtle_data.text),), \"\\t\", configuration[\"label\"],\"\\t\", configuration[\"filePath\"])"
   ]
  },
  {
   "cell_type": "code",
   "execution_count": null,
   "outputs": [],
   "source": [],
   "metadata": {
    "collapsed": false,
    "pycharm": {
     "name": "#%%\n"
    }
   }
  }
 ],
 "metadata": {
  "interpreter": {
   "hash": "31f2aee4e71d21fbe5cf8b01ff0e069b9275f58929596ceb00d14d90e3e16cd6"
  },
  "kernelspec": {
   "display_name": "Python 3.6.9 64-bit",
   "name": "python3"
  },
  "language_info": {
   "codemirror_mode": {
    "name": "ipython",
    "version": 3
   },
   "file_extension": ".py",
   "mimetype": "text/x-python",
   "name": "python",
   "nbconvert_exporter": "python",
   "pygments_lexer": "ipython3",
   "version": "3.6.9"
  },
  "orig_nbformat": 4
 },
 "nbformat": 4,
 "nbformat_minor": 2
}