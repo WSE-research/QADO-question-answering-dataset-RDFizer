{
 "cells": [
  {
   "cell_type": "markdown",
   "metadata": {},
   "source": [
    "# Transform datasets to RDF as defined in the JSON configuration file"
   ]
  },
  {
   "cell_type": "code",
   "execution_count": 110,
   "metadata": {},
   "outputs": [],
   "source": [
    "configurations_folder = \"configurations\"\n",
    "configurations = [\n",
    "    \"qald.json\",\n",
    "    #\"qald.short.json\",\n",
    "    #\"lc-quad.json\",\n",
    "    \"rubq.json\",\n",
    "    #\"rubq.short.json\",\n",
    "    \"cwq.json\"\n",
    "]\n",
    "\n",
    "service_url = \"http://webengineering.ins.hs-anhalt.de:41399/json2rdf\"\n",
    "cache_directory = \"/tmp\"\n",
    "stardog_endpoint = \"https://webengineering.ins.hs-anhalt.de:40159\"\n",
    "stardog_database = \"rdfizer\""
   ]
  },
  {
   "cell_type": "code",
   "execution_count": 111,
   "metadata": {},
   "outputs": [],
   "source": [
    "import json\n",
    "from pprint import pprint\n",
    "import requests\n",
    "import rdflib\n",
    "import os\n",
    "import owlrl\n",
    "import stardog\n",
    "from stardog import Connection"
   ]
  },
  {
   "cell_type": "code",
   "execution_count": 112,
   "metadata": {},
   "outputs": [
    {
     "name": "stdout",
     "output_type": "stream",
     "text": [
      "<stardog.connection.Connection object at 0x7f06e1b37278>\n"
     ]
    }
   ],
   "source": [
    "conn = Connection(stardog_database, endpoint=stardog_endpoint, username='admin', password='admin')\n",
    "pprint(conn)"
   ]
  },
  {
   "cell_type": "code",
   "execution_count": 113,
   "metadata": {},
   "outputs": [],
   "source": [
    "def red(s):\n",
    "    return(\"\\x1b[31m\" + s + \"\\x1b[0m\")\n",
    "\n",
    "def green(s):\n",
    "    return(\"\\x1b[32m\" + s + \"\\x1b[0m\")\n",
    "\n",
    "def yellow(s):\n",
    "    return(\"\\x1b[33m\" + s + \"\\x1b[0m\")\n",
    "\n",
    "def blue(s):\n",
    "    return(\"\\x1b[34m\" + s + \"\\x1b[0m\")"
   ]
  },
  {
   "cell_type": "code",
   "execution_count": 114,
   "metadata": {},
   "outputs": [],
   "source": [
    "def write_text_to_file(filename, text):\n",
    "    with open(filename, \"w\") as f:\n",
    "        f.write(text)\n",
    "        f.close()\n",
    "        \n",
    "def read_text_from_file(filename):\n",
    "    with open(filename, \"r\") as f:\n",
    "        text = f.read()\n",
    "        f.close()\n",
    "    return text\n",
    "\n",
    "def cache_filename_for_url(url):\n",
    "    return url.replace(\"/\", \"\").replace(\":\", \"\").replace(\".\", \"\")\n",
    "\n",
    "def drop_graph(conn, graph):\n",
    "    try:\n",
    "        query = f\"\"\"DROP GRAPH <{graph}>\"\"\"\n",
    "        conn.update(query)\n",
    "    except:\n",
    "        pass\n",
    "\n",
    "def load_data_into_graph(conn, graph, filename):\n",
    "    #query = f\"\"\"CREATE GRAPH <{graph}>\"\"\"\n",
    "    #conn.update(query)\n",
    "    conn.begin()\n",
    "    conn.add(stardog.content.File(filename), graph_uri=graph)\n",
    "    conn.commit()\n",
    "\n",
    "\n",
    "def get_count_from_result(results):\n",
    "    for row in results[\"results\"][\"bindings\"]:\n",
    "        count = row[\"count\"][\"value\"]\n",
    "        return int(count)\n",
    "\n",
    "def get_number_of_triples_in_graph(conn, graph):\n",
    "    results = conn.select(f\"SELECT (COUNT(DISTINCT ?s) AS ?count) FROM <{graph}> {{ ?s ?p ?o }}\")\n",
    "    return get_count_from_result(results)\n",
    "\n",
    "def get_number_of_questions_in_graph(conn, graph):\n",
    "    query = f\"SELECT (COUNT(DISTINCT ?s) AS ?count) FROM <{graph}> WHERE {{ ?s a <urn:qa:benchmark#Question> . }}\"\n",
    "    #print(query)\n",
    "    results = conn.select(query)\n",
    "    return int(get_count_from_result(results))\n",
    "\n",
    "def get_number_of_valid_questions_in_graph(conn, graph):\n",
    "    query = f\"\"\"\n",
    "        SELECT (COUNT(DISTINCT ?question) AS ?count)\n",
    "        FROM <{graph}>\n",
    "        WHERE {{\n",
    "            VALUES ?HasQuestionTextProperty {{\n",
    "                <urn:qa:benchmark#questionEng> # RuBQ\n",
    "                <urn:qa:benchmark#questionText> # RuBQ\n",
    "                <urn:qa:benchmark#hasQuestion>  # QALD\n",
    "            }} # needs to be aligned using OWLRL\n",
    "            \n",
    "            VALUES ?hasAnswerProperty {{\n",
    "                <urn:qa:benchmark#hasAnswer> # QALD\n",
    "                <urn:qa:benchmark#answer> # RuBQ\n",
    "            }}\n",
    "            \n",
    "            VALUES ?hasQueryProperty {{\n",
    "                <urn:qa:benchmark#hasSPARQLQuery> # QALD\n",
    "                <urn:qa:benchmark#query> #RuBQ\n",
    "            }}\n",
    "            \n",
    "            ?question a <urn:qa:benchmark#Question> .\n",
    "            ?question ?hasQueryProperty ?query .\n",
    "            ?question ?hasAnswerProperty ?answer .\n",
    "            ?question ?hasQuestionTextProperty ?questionText .\n",
    "        }}\n",
    "    \"\"\"\n",
    "    #print(query)\n",
    "    result = conn.select(query)\n",
    "    count_valid_questions = get_count_from_result(result)\n",
    "    \n",
    "    return count_valid_questions"
   ]
  },
  {
   "cell_type": "markdown",
   "metadata": {},
   "source": [
    "## Push all data to Stardog and retrieve statistics about each dataset using SPARQL queries"
   ]
  },
  {
   "cell_type": "code",
   "execution_count": 115,
   "metadata": {},
   "outputs": [
    {
     "name": "stdout",
     "output_type": "stream",
     "text": [
      "     82041    101 triples \u001B[32m   100 questions\u001B[0m \u001B[32m   100 valid questions\u001B[0m \t QALD 6 train datacube \t https://github.com/ag-sc/QALD/raw/master/6/data/qald-6-train-datacube.json\n",
      "     26687     50 triples \u001B[32m    49 questions\u001B[0m \u001B[31m     0 valid questions\u001B[0m \t QALD 6 train hybrid \t https://github.com/ag-sc/QALD/raw/master/6/data/qald-6-train-hybrid.json\n",
      "    470615    351 triples \u001B[32m   350 questions\u001B[0m \u001B[31m     0 valid questions\u001B[0m \t QALD 6 train multilingual raw \t https://github.com/ag-sc/QALD/raw/master/6/data/qald-6-train-multilingual-raw.json\n",
      "   1022433    351 triples \u001B[32m   350 questions\u001B[0m \u001B[31m   334 valid questions\u001B[0m \t QALD 6 train multilingual \t https://github.com/ag-sc/QALD/raw/master/6/data/qald-6-train-multilingual.json\n",
      "    337524    216 triples \u001B[32m   215 questions\u001B[0m \u001B[32m   215 valid questions\u001B[0m \t QALD 7 train multilingual \t https://github.com/ag-sc/QALD/raw/master/7/data/qald-7-train-multilingual.json\n",
      "       362      1 triples \u001B[31m     0 questions\u001B[0m \u001B[31m     0 valid questions\u001B[0m \t QALD 7 train multilingual extended \t https://github.com/ag-sc/QALD/raw/master/7/data/qald-7-train-multilingual-extended-json.json\n",
      "    437267    220 triples \u001B[32m   219 questions\u001B[0m \u001B[32m   219 valid questions\u001B[0m \t QALD 8 train multilingual \t https://github.com/ag-sc/QALD/raw/master/8/data/qald-8-train-multilingual.json\n",
      "     33814     42 triples \u001B[32m    41 questions\u001B[0m \u001B[32m    41 valid questions\u001B[0m \t QALD 8 test multilingual \t https://github.com/ag-sc/QALD/raw/master/8/data/qald-8-test-multilingual.json?raw=true\n",
      "   1424414    409 triples \u001B[32m   408 questions\u001B[0m \u001B[32m   408 valid questions\u001B[0m \t QALD 9 train multilingual \t https://github.com/ag-sc/QALD/raw/master/9/data/qald-9-train-multilingual.json?raw=true\n",
      "    495490    151 triples \u001B[32m   150 questions\u001B[0m \u001B[32m   150 valid questions\u001B[0m \t QALD 9 test multilingual \t https://raw.githubusercontent.com/ag-sc/QALD/master/9/data/qald-9-test-multilingual.json\n",
      "    218699    301 triples \u001B[32m   300 questions\u001B[0m \u001B[31m   240 valid questions\u001B[0m \t RuBQ 1.0 dev \t https://github.com/vladislavneon/RuBQ/raw/master/RuBQ_1.0/RuBQ_1.0_dev.json?raw=true\n",
      "    882707   1201 triples \u001B[32m  1200 questions\u001B[0m \u001B[31m   960 valid questions\u001B[0m \t RuBQ 1.0 test \t https://github.com/vladislavneon/RuBQ/raw/master/RuBQ_1.0/RuBQ_1.0_test.json?raw=true\n",
      "    428268    581 triples \u001B[32m   580 questions\u001B[0m \u001B[31m   480 valid questions\u001B[0m \t RuBQ 2.0 dev \t https://github.com/vladislavneon/RuBQ/raw/master/RuBQ_2.0/RuBQ_2.0_dev.json?raw=true\n",
      "   1730222   2331 triples \u001B[32m  2330 questions\u001B[0m \u001B[31m  1920 valid questions\u001B[0m \t RuBQ 2.0 test \t https://github.com/vladislavneon/RuBQ/raw/master/RuBQ_2.0/RuBQ_2.0_test.json?raw=true\n",
      "         0      0 triples \u001B[31m     0 questions\u001B[0m \u001B[31m     0 valid questions\u001B[0m \t CWQ dev \t https://www.dropbox.com/sh/7pkwkrfnwqhsnpo/AADH8beLbOUWxwvY_K38E3ADa/ComplexWebQuestions_dev.json?dl=1\n",
      "         0      0 triples \u001B[31m     0 questions\u001B[0m \u001B[31m     0 valid questions\u001B[0m \t CWQ test \t https://www.dropbox.com/sh/7pkwkrfnwqhsnpo/AABr4ysSy_Tg8Wfxww4i_UWda/ComplexWebQuestions_test.json?dl=1\n",
      "         0      0 triples \u001B[31m     0 questions\u001B[0m \u001B[31m     0 valid questions\u001B[0m \t CWQ train \t https://www.dropbox.com/sh/7pkwkrfnwqhsnpo/AAAIHeWX0cPpbpwK6w06BCxva/ComplexWebQuestions_train.json?dl=1\n"
     ]
    }
   ],
   "source": [
    "for configuration_filename in configurations:\n",
    "    configuration_list = json.load(open(configurations_folder + \"/\" + configuration_filename))\n",
    "    \n",
    "    for configuration in configuration_list:\n",
    "        #pprint(configuration)\n",
    "        \n",
    "        cache_filename = cache_filename_for_url(configuration[\"filePath\"]) + \".ttl\"\n",
    "        \n",
    "        if not os.path.isfile(cache_directory + \"/\" + cache_filename):\n",
    "            post_data = {   \n",
    "                \"filePath\": configuration[\"filePath\"],\n",
    "                \"homepage\": configuration[\"homepage\"],\n",
    "                \"format\": configuration[\"format\"],\n",
    "                \"label\": configuration[\"label\"],\n",
    "            }\n",
    "            \n",
    "            #pprint(post_data)\n",
    "            turtle_data = requests.post(service_url, json=post_data, headers={'Content-Type': 'application/json'}) \n",
    "            write_text_to_file(cache_directory + \"/\" + cache_filename, turtle_data.text)\n",
    "\n",
    "        try:\n",
    "            turtle_data_as_text = read_text_from_file(cache_directory + \"/\" + cache_filename)\n",
    "           \n",
    "            ### TOO SLOW \n",
    "            #graph = rdflib.Graph()\n",
    "            #graph.parse(cache_directory + \"/\" + cache_filename, format=\"turtle\")\n",
    "            #owlrl.DeductiveClosure(owlrl.OWLRL_Semantics).expand(graph)\n",
    "            \n",
    "            graph = configuration[\"filePath\"]\n",
    "            \n",
    "            # init graph\n",
    "            drop_graph(conn, graph)\n",
    "            load_data_into_graph(conn, graph, cache_directory + \"/\" + cache_filename)\n",
    "            \n",
    "            # stats\n",
    "            number_of_triples_in_graph = get_number_of_triples_in_graph(conn, graph)\n",
    "            number_of_questions_in_graph = get_number_of_questions_in_graph(conn, graph)\n",
    "            number_of_valid_questions_in_graph = get_number_of_valid_questions_in_graph(conn, graph)\n",
    "            \n",
    "            # create colorful output \n",
    "            number_of_triples_in_graph_output = \"%6d triples\" % (number_of_triples_in_graph,)\n",
    "            if number_of_triples_in_graph == 0:\n",
    "                number_of_triples_in_graph_output = red(number_of_triples_in_graph_output)\n",
    "                \n",
    "            number_of_questions_in_graph_output = \"%6d questions\" % (number_of_questions_in_graph,)\n",
    "            if number_of_triples_in_graph == number_of_questions_in_graph + 1 and number_of_questions_in_graph != 0:\n",
    "                number_of_questions_in_graph_output = green(number_of_questions_in_graph_output)\n",
    "            else:\n",
    "                number_of_questions_in_graph_output = red(number_of_questions_in_graph_output)\n",
    "            \n",
    "            number_of_valid_questions_in_graph_output = \"%6d valid questions\" % (number_of_valid_questions_in_graph,)\n",
    "            if number_of_valid_questions_in_graph == number_of_questions_in_graph and number_of_valid_questions_in_graph != 0:\n",
    "                number_of_valid_questions_in_graph_output = green(number_of_valid_questions_in_graph_output)\n",
    "            else:\n",
    "                number_of_valid_questions_in_graph_output = red(number_of_valid_questions_in_graph_output)\n",
    "            \n",
    "            print(\"%10d\" % (len(turtle_data_as_text),), number_of_triples_in_graph_output, number_of_questions_in_graph_output, number_of_valid_questions_in_graph_output, \"\\t\", configuration[\"label\"], \"\\t\", configuration[\"filePath\"])\n",
    "           \n",
    "        except Exception as e:\n",
    "            print(\"    ERROR\", \"\\t\", configuration[\"label\"],\"\\t\", configuration[\"filePath\"], e)\n",
    "        \n",
    "    "
   ]
  }
 ],
 "metadata": {
  "interpreter": {
   "hash": "31f2aee4e71d21fbe5cf8b01ff0e069b9275f58929596ceb00d14d90e3e16cd6"
  },
  "kernelspec": {
   "display_name": "Python 3.6.9 64-bit",
   "name": "python3"
  },
  "language_info": {
   "codemirror_mode": {
    "name": "ipython",
    "version": 3
   },
   "file_extension": ".py",
   "mimetype": "text/x-python",
   "name": "python",
   "nbconvert_exporter": "python",
   "pygments_lexer": "ipython3",
   "version": "3.6.9"
  },
  "orig_nbformat": 4
 },
 "nbformat": 4,
 "nbformat_minor": 2
}