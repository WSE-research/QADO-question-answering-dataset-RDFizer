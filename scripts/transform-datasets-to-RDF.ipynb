{
 "cells": [
  {
   "cell_type": "markdown",
   "metadata": {
    "pycharm": {
     "name": "#%% md\n"
    }
   },
   "source": [
    "# Transform datasets to RDF as defined in the JSON configuration file"
   ],
   "outputs": []
  },
  {
   "cell_type": "code",
   "execution_count": null,
   "metadata": {
    "pycharm": {
     "name": "#%%\n",
     "is_executing": true
    }
   },
   "outputs": [],
   "source": [
    "configurations_folder = \"configurations\"\n",
    "configurations = [\n",
    "    \"qald.json\",\n",
    "    #\"qald.short.json\",\n",
    "    \"lc-quad.json\",\n",
    "    \"rubq.json\",\n",
    "    #\"rubq.short.json\",\n",
    "    \"cwq.json\"\n",
    "]\n",
    "\n",
    "service_url = \"http://localhost:8080/json2rdf\" # \"http://webengineering.ins.hs-anhalt.de:41399/json2rdf\"\n",
    "cache_directory = \"/tmp\"\n",
    "stardog_endpoint = \"https://webengineering.ins.hs-anhalt.de:40159\"\n",
    "stardog_database = \"rdfizer\""
   ]
  },
  {
   "cell_type": "code",
   "execution_count": 2,
   "metadata": {
    "pycharm": {
     "name": "#%%\n"
    }
   },
   "outputs": [],
   "source": [
    "import json\n",
    "from pprint import pprint\n",
    "import requests\n",
    "import rdflib\n",
    "import os\n",
    "import owlrl\n",
    "import stardog\n",
    "from stardog import Connection"
   ]
  },
  {
   "cell_type": "code",
   "execution_count": 3,
   "metadata": {
    "pycharm": {
     "name": "#%%\n"
    }
   },
   "outputs": [
    {
     "name": "stdout",
     "output_type": "stream",
     "text": [
      "<stardog.connection.Connection object at 0x7fb70b77fa60>\n"
     ]
    }
   ],
   "source": [
    "conn = Connection(stardog_database, endpoint=stardog_endpoint, username='admin', password='admin')\n",
    "pprint(conn)"
   ]
  },
  {
   "cell_type": "code",
   "execution_count": 4,
   "metadata": {
    "pycharm": {
     "name": "#%%\n"
    }
   },
   "outputs": [],
   "source": [
    "def red(s):\n",
    "    return(\"\\x1b[31m\" + s + \"\\x1b[0m\")\n",
    "\n",
    "def green(s):\n",
    "    return(\"\\x1b[32m\" + s + \"\\x1b[0m\")\n",
    "\n",
    "def yellow(s):\n",
    "    return(\"\\x1b[33m\" + s + \"\\x1b[0m\")\n",
    "\n",
    "def blue(s):\n",
    "    return(\"\\x1b[34m\" + s + \"\\x1b[0m\")"
   ]
  },
  {
   "cell_type": "code",
   "execution_count": 5,
   "metadata": {
    "pycharm": {
     "name": "#%%\n"
    }
   },
   "outputs": [],
   "source": [
    "def write_text_to_file(filename, text):\n",
    "    with open(filename, \"w\") as f:\n",
    "        f.write(text)\n",
    "        f.close()\n",
    "        \n",
    "def read_text_from_file(filename):\n",
    "    with open(filename, \"r\") as f:\n",
    "        text = f.read()\n",
    "        f.close()\n",
    "    return text\n",
    "\n",
    "def cache_filename_for_url(url):\n",
    "    url = url.split('?')[0]\n",
    "    return url.replace(\"/\", \"\").replace(\":\", \"\").replace(\".\", \"\")\n",
    "\n",
    "def drop_graph(conn, graph):\n",
    "    try:\n",
    "        query = f\"\"\"DROP GRAPH <{graph}>\"\"\"\n",
    "        conn.update(query)\n",
    "    except:\n",
    "        pass\n",
    "\n",
    "def load_data_into_graph(conn, graph, filename):\n",
    "    #query = f\"\"\"CREATE GRAPH <{graph}>\"\"\"\n",
    "    #conn.update(query)\n",
    "    conn.begin()\n",
    "    conn.add(stardog.content.File(filename), graph_uri=graph)\n",
    "    conn.commit()\n",
    "\n",
    "\n",
    "def get_count_from_result(results):\n",
    "    for row in results[\"results\"][\"bindings\"]:\n",
    "        count = row[\"count\"][\"value\"]\n",
    "        return int(count)\n",
    "\n",
    "def get_number_of_triples_in_graph(conn, graph):\n",
    "    results = conn.select(f\"SELECT (COUNT(DISTINCT ?s) AS ?count) FROM <{graph}> {{ ?s ?p ?o }}\")\n",
    "    return get_count_from_result(results)\n",
    "\n",
    "def get_number_of_questions_in_graph(conn, graph):\n",
    "    query = f\"SELECT (COUNT(DISTINCT ?s) AS ?count) FROM <{graph}> WHERE {{ ?s a <urn:qa:benchmark#Question> . }}\"\n",
    "\n",
    "    results = conn.select(query)\n",
    "    return int(get_count_from_result(results))\n",
    "\n",
    "def get_number_of_valid_questions_in_graph(conn, graph):\n",
    "    query = f\"\"\"\n",
    "        SELECT (COUNT(DISTINCT ?question) AS ?count)\n",
    "        FROM <{graph}>\n",
    "        WHERE {{\n",
    "            VALUES ?HasQuestionTextProperty {{\n",
    "                <urn:qa:benchmark#questionEng> # RuBQ\n",
    "                <urn:qa:benchmark#questionText> # RuBQ\n",
    "                <urn:qa:benchmark#hasQuestion>  # QALD\n",
    "            }} # needs to be aligned using OWLRL\n",
    "            \n",
    "            VALUES ?hasAnswerProperty {{\n",
    "                <urn:qa:benchmark#hasAnswer> # QALD\n",
    "                <urn:qa:benchmark#answer> # RuBQ\n",
    "            }}\n",
    "            \n",
    "            VALUES ?hasQueryProperty {{\n",
    "                <urn:qa:benchmark#hasSPARQLQuery> # QALD\n",
    "                <urn:qa:benchmark#query> #RuBQ\n",
    "            }}\n",
    "            \n",
    "            ?question a <urn:qa:benchmark#Question> .\n",
    "            ?question ?hasQueryProperty ?query .\n",
    "            ?question ?hasAnswerProperty ?answer .\n",
    "            ?question ?hasQuestionTextProperty ?questionText .\n",
    "        }}\n",
    "    \"\"\"\n",
    "    #print(query)\n",
    "    result = conn.select(query)\n",
    "    count_valid_questions = get_count_from_result(result)\n",
    "    \n",
    "    return count_valid_questions"
   ]
  },
  {
   "cell_type": "markdown",
   "metadata": {
    "pycharm": {
     "name": "#%% md\n"
    }
   },
   "source": [
    "## Push all data to Stardog and retrieve statistics about each dataset using SPARQL queries"
   ]
  },
  {
   "cell_type": "code",
   "execution_count": 14,
   "metadata": {
    "pycharm": {
     "name": "#%%\n"
    }
   },
   "outputs": [
    {
     "ename": "KeyboardInterrupt",
     "evalue": "",
     "output_type": "error",
     "traceback": [
      "\u001B[0;31m---------------------------------------------------------------------------\u001B[0m",
      "\u001B[0;31mKeyboardInterrupt\u001B[0m                         Traceback (most recent call last)",
      "Input \u001B[0;32mIn [14]\u001B[0m, in \u001B[0;36m<module>\u001B[0;34m\u001B[0m\n\u001B[1;32m     36\u001B[0m \u001B[38;5;66;03m# init graph\u001B[39;00m\n\u001B[1;32m     37\u001B[0m drop_graph(conn, graph)\n\u001B[0;32m---> 38\u001B[0m \u001B[43mload_data_into_graph\u001B[49m(conn, graph, cache_directory \u001B[38;5;241m+\u001B[39m \u001B[38;5;124m\"\u001B[39m\u001B[38;5;124m/\u001B[39m\u001B[38;5;124m\"\u001B[39m \u001B[38;5;241m+\u001B[39m cache_filename)\n\u001B[1;32m     40\u001B[0m \u001B[38;5;66;03m# stats\u001B[39;00m\n\u001B[1;32m     41\u001B[0m number_of_triples_in_graph \u001B[38;5;241m=\u001B[39m get_number_of_triples_in_graph(conn, graph)\n",
      "Input \u001B[0;32mIn [14]\u001B[0m, in \u001B[0;36m<module>\u001B[0;34m\u001B[0m\n\u001B[1;32m     36\u001B[0m \u001B[38;5;66;03m# init graph\u001B[39;00m\n\u001B[1;32m     37\u001B[0m drop_graph(conn, graph)\n\u001B[0;32m---> 38\u001B[0m \u001B[43mload_data_into_graph\u001B[49m(conn, graph, cache_directory \u001B[38;5;241m+\u001B[39m \u001B[38;5;124m\"\u001B[39m\u001B[38;5;124m/\u001B[39m\u001B[38;5;124m\"\u001B[39m \u001B[38;5;241m+\u001B[39m cache_filename)\n\u001B[1;32m     40\u001B[0m \u001B[38;5;66;03m# stats\u001B[39;00m\n\u001B[1;32m     41\u001B[0m number_of_triples_in_graph \u001B[38;5;241m=\u001B[39m get_number_of_triples_in_graph(conn, graph)\n",
      "File \u001B[0;32m~/.local/share/JetBrains/Toolbox/apps/IDEA-U/ch-0/213.6777.52.plugins/python/helpers/pydev/_pydevd_bundle/pydevd_frame.py:880\u001B[0m, in \u001B[0;36mPyDBFrame.trace_dispatch\u001B[0;34m(self, frame, event, arg)\u001B[0m\n\u001B[1;32m    877\u001B[0m             stop \u001B[38;5;241m=\u001B[39m \u001B[38;5;28;01mFalse\u001B[39;00m\n\u001B[1;32m    879\u001B[0m \u001B[38;5;28;01mif\u001B[39;00m plugin_stop:\n\u001B[0;32m--> 880\u001B[0m     stopped_on_plugin \u001B[38;5;241m=\u001B[39m \u001B[43mplugin_manager\u001B[49m\u001B[38;5;241;43m.\u001B[39;49m\u001B[43mstop\u001B[49m\u001B[43m(\u001B[49m\u001B[43mmain_debugger\u001B[49m\u001B[43m,\u001B[49m\u001B[43m \u001B[49m\u001B[43mframe\u001B[49m\u001B[43m,\u001B[49m\u001B[43m \u001B[49m\u001B[43mevent\u001B[49m\u001B[43m,\u001B[49m\u001B[43m \u001B[49m\u001B[38;5;28;43mself\u001B[39;49m\u001B[38;5;241;43m.\u001B[39;49m\u001B[43m_args\u001B[49m\u001B[43m,\u001B[49m\u001B[43m \u001B[49m\u001B[43mstop_info\u001B[49m\u001B[43m,\u001B[49m\u001B[43m \u001B[49m\u001B[43marg\u001B[49m\u001B[43m,\u001B[49m\u001B[43m \u001B[49m\u001B[43mstep_cmd\u001B[49m\u001B[43m)\u001B[49m\n\u001B[1;32m    881\u001B[0m \u001B[38;5;28;01melif\u001B[39;00m stop:\n\u001B[1;32m    882\u001B[0m     \u001B[38;5;28;01mif\u001B[39;00m is_line:\n",
      "File \u001B[0;32m~/.local/share/JetBrains/Toolbox/apps/IDEA-U/ch-0/213.6777.52.plugins/python/helpers-pro/jupyter_debug/pydev_jupyter_plugin.py:165\u001B[0m, in \u001B[0;36mstop\u001B[0;34m(plugin, pydb, frame, event, args, stop_info, arg, step_cmd)\u001B[0m\n\u001B[1;32m    163\u001B[0m     frame \u001B[38;5;241m=\u001B[39m suspend_jupyter(main_debugger, thread, frame, step_cmd)\n\u001B[1;32m    164\u001B[0m     \u001B[38;5;28;01mif\u001B[39;00m frame:\n\u001B[0;32m--> 165\u001B[0m         \u001B[43mmain_debugger\u001B[49m\u001B[38;5;241;43m.\u001B[39;49m\u001B[43mdo_wait_suspend\u001B[49m\u001B[43m(\u001B[49m\u001B[43mthread\u001B[49m\u001B[43m,\u001B[49m\u001B[43m \u001B[49m\u001B[43mframe\u001B[49m\u001B[43m,\u001B[49m\u001B[43m \u001B[49m\u001B[43mevent\u001B[49m\u001B[43m,\u001B[49m\u001B[43m \u001B[49m\u001B[43marg\u001B[49m\u001B[43m)\u001B[49m\n\u001B[1;32m    166\u001B[0m         \u001B[38;5;28;01mreturn\u001B[39;00m \u001B[38;5;28;01mTrue\u001B[39;00m\n\u001B[1;32m    167\u001B[0m \u001B[38;5;28;01mreturn\u001B[39;00m \u001B[38;5;28;01mFalse\u001B[39;00m\n",
      "File \u001B[0;32m~/.local/share/JetBrains/Toolbox/apps/IDEA-U/ch-0/213.6777.52.plugins/python/helpers/pydev/pydevd.py:1147\u001B[0m, in \u001B[0;36mPyDB.do_wait_suspend\u001B[0;34m(self, thread, frame, event, arg, send_suspend_message, is_unhandled_exception)\u001B[0m\n\u001B[1;32m   1144\u001B[0m         from_this_thread\u001B[38;5;241m.\u001B[39mappend(frame_id)\n\u001B[1;32m   1146\u001B[0m \u001B[38;5;28;01mwith\u001B[39;00m \u001B[38;5;28mself\u001B[39m\u001B[38;5;241m.\u001B[39m_threads_suspended_single_notification\u001B[38;5;241m.\u001B[39mnotify_thread_suspended(thread_id, stop_reason):\n\u001B[0;32m-> 1147\u001B[0m     \u001B[38;5;28;43mself\u001B[39;49m\u001B[38;5;241;43m.\u001B[39;49m\u001B[43m_do_wait_suspend\u001B[49m\u001B[43m(\u001B[49m\u001B[43mthread\u001B[49m\u001B[43m,\u001B[49m\u001B[43m \u001B[49m\u001B[43mframe\u001B[49m\u001B[43m,\u001B[49m\u001B[43m \u001B[49m\u001B[43mevent\u001B[49m\u001B[43m,\u001B[49m\u001B[43m \u001B[49m\u001B[43marg\u001B[49m\u001B[43m,\u001B[49m\u001B[43m \u001B[49m\u001B[43msuspend_type\u001B[49m\u001B[43m,\u001B[49m\u001B[43m \u001B[49m\u001B[43mfrom_this_thread\u001B[49m\u001B[43m)\u001B[49m\n",
      "File \u001B[0;32m~/.local/share/JetBrains/Toolbox/apps/IDEA-U/ch-0/213.6777.52.plugins/python/helpers/pydev/pydevd.py:1162\u001B[0m, in \u001B[0;36mPyDB._do_wait_suspend\u001B[0;34m(self, thread, frame, event, arg, suspend_type, from_this_thread)\u001B[0m\n\u001B[1;32m   1159\u001B[0m             \u001B[38;5;28mself\u001B[39m\u001B[38;5;241m.\u001B[39m_call_mpl_hook()\n\u001B[1;32m   1161\u001B[0m         \u001B[38;5;28mself\u001B[39m\u001B[38;5;241m.\u001B[39mprocess_internal_commands()\n\u001B[0;32m-> 1162\u001B[0m         \u001B[43mtime\u001B[49m\u001B[38;5;241;43m.\u001B[39;49m\u001B[43msleep\u001B[49m\u001B[43m(\u001B[49m\u001B[38;5;241;43m0.01\u001B[39;49m\u001B[43m)\u001B[49m\n\u001B[1;32m   1164\u001B[0m \u001B[38;5;28mself\u001B[39m\u001B[38;5;241m.\u001B[39mcancel_async_evaluation(get_current_thread_id(thread), \u001B[38;5;28mstr\u001B[39m(\u001B[38;5;28mid\u001B[39m(frame)))\n\u001B[1;32m   1166\u001B[0m \u001B[38;5;66;03m# process any stepping instructions\u001B[39;00m\n",
      "\u001B[0;31mKeyboardInterrupt\u001B[0m: "
     ]
    }
   ],
   "source": [
    "for configuration_filename in configurations:\n",
    "    configuration_list = json.load(open(configurations_folder + \"/\" + configuration_filename))\n",
    "    \n",
    "    for configuration in configuration_list:\n",
    "        #pprint(configuration)\n",
    "        \n",
    "        cache_filename = cache_filename_for_url(configuration[\"filePath\"]) + \".ttl\"\n",
    "        \n",
    "        if not os.path.isfile(cache_directory + \"/\" + cache_filename):\n",
    "            post_data = {   \n",
    "                \"filePath\": configuration[\"filePath\"],\n",
    "                \"homepage\": configuration[\"homepage\"],\n",
    "                \"format\": configuration[\"format\"],\n",
    "                \"label\": configuration[\"label\"],\n",
    "            }\n",
    "            \n",
    "            #pprint(post_data)\n",
    "            turtle_data = requests.post(service_url, json=post_data, headers={'Content-Type': 'application/json'})\n",
    "\n",
    "            if not turtle_data.ok:\n",
    "                print(configuration[\"label\"], turtle_data.text, \"skipping\")\n",
    "                continue\n",
    "\n",
    "            write_text_to_file(cache_directory + \"/\" + cache_filename, turtle_data.text)\n",
    "\n",
    "        try:\n",
    "            turtle_data_as_text = read_text_from_file(cache_directory + \"/\" + cache_filename)\n",
    "           \n",
    "            ### TOO SLOW \n",
    "            #graph = rdflib.Graph()\n",
    "            #graph.parse(cache_directory + \"/\" + cache_filename, format=\"turtle\")\n",
    "            #owlrl.DeductiveClosure(owlrl.OWLRL_Semantics).expand(graph)\n",
    "            \n",
    "            graph = configuration[\"filePath\"]\n",
    "            \n",
    "            # init graph\n",
    "            drop_graph(conn, graph)\n",
    "            load_data_into_graph(conn, graph, cache_directory + \"/\" + cache_filename)\n",
    "            \n",
    "            # stats\n",
    "            number_of_triples_in_graph = get_number_of_triples_in_graph(conn, graph)\n",
    "            number_of_questions_in_graph = get_number_of_questions_in_graph(conn, graph)\n",
    "            number_of_valid_questions_in_graph = get_number_of_valid_questions_in_graph(conn, graph)\n",
    "            \n",
    "            # create colorful output \n",
    "            number_of_triples_in_graph_output = \"%6d triples\" % (number_of_triples_in_graph,)\n",
    "            if number_of_triples_in_graph == 0:\n",
    "                number_of_triples_in_graph_output = red(number_of_triples_in_graph_output)\n",
    "                \n",
    "            number_of_questions_in_graph_output = \"%6d questions\" % (number_of_questions_in_graph,)\n",
    "            if number_of_triples_in_graph == 3 * number_of_questions_in_graph + 1 and number_of_questions_in_graph != 0:\n",
    "                number_of_questions_in_graph_output = green(number_of_questions_in_graph_output)\n",
    "            else:\n",
    "                number_of_questions_in_graph_output = red(number_of_questions_in_graph_output)\n",
    "            \n",
    "            number_of_valid_questions_in_graph_output = \"%6d valid questions\" % (number_of_valid_questions_in_graph,)\n",
    "            if number_of_valid_questions_in_graph == number_of_questions_in_graph and number_of_valid_questions_in_graph != 0:\n",
    "                number_of_valid_questions_in_graph_output = green(number_of_valid_questions_in_graph_output)\n",
    "            else:\n",
    "                number_of_valid_questions_in_graph_output = red(number_of_valid_questions_in_graph_output)\n",
    "            \n",
    "            print(\"%10d\" % (len(turtle_data_as_text),), number_of_triples_in_graph_output, number_of_questions_in_graph_output, number_of_valid_questions_in_graph_output, \"\\t\", configuration[\"label\"], \"\\t\", configuration[\"filePath\"])\n",
    "           \n",
    "        except Exception as e:\n",
    "            print(\"    ERROR\", \"\\t\", configuration[\"label\"],\"\\t\", configuration[\"filePath\"], e)\n",
    "\n"
   ]
  },
  {
   "cell_type": "code",
   "execution_count": 13,
   "outputs": [],
   "source": [],
   "metadata": {
    "collapsed": false,
    "pycharm": {
     "name": "#%%\n"
    }
   }
  }
 ],
 "metadata": {
  "interpreter": {
   "hash": "31f2aee4e71d21fbe5cf8b01ff0e069b9275f58929596ceb00d14d90e3e16cd6"
  },
  "kernelspec": {
   "display_name": "Python 3.6.9 64-bit",
   "name": "python3"
  },
  "language_info": {
   "codemirror_mode": {
    "name": "ipython",
    "version": 3
   },
   "file_extension": ".py",
   "mimetype": "text/x-python",
   "name": "python",
   "nbconvert_exporter": "python",
   "pygments_lexer": "ipython3",
   "version": "3.6.9"
  },
  "orig_nbformat": 4
 },
 "nbformat": 4,
 "nbformat_minor": 2
}